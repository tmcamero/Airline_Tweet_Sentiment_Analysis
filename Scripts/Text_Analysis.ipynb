{
 "cells": [
  {
   "cell_type": "markdown",
   "metadata": {},
   "source": [
    "# IST 736 : Text Mining : Airline Tweets"
   ]
  },
  {
   "cell_type": "code",
   "execution_count": 88,
   "metadata": {},
   "outputs": [
    {
     "name": "stderr",
     "output_type": "stream",
     "text": [
      "/Users/teresacameron/opt/anaconda3/lib/python3.7/site-packages/sklearn/utils/deprecation.py:143: FutureWarning: The sklearn.metrics.classification module is  deprecated in version 0.22 and will be removed in version 0.24. The corresponding classes / functions should instead be imported from sklearn.metrics. Anything that cannot be imported from sklearn.metrics is now part of the private API.\n",
      "  warnings.warn(message, FutureWarning)\n"
     ]
    }
   ],
   "source": [
    "# Imports\n",
    "\n",
    "# Data frame \n",
    "import pandas as pd\n",
    "import numpy as np\n",
    "\n",
    "# Visualizations\n",
    "import matplotlib.pyplot as plt\n",
    "import seaborn as sns\n",
    "\n",
    "# Text Analysis\n",
    "from sklearn.model_selection import train_test_split\n",
    "\n",
    "# Vectorizers\n",
    "from sklearn.feature_extraction.text import CountVectorizer\n",
    "from sklearn.feature_extraction.text import TfidfVectorizer\n",
    "\n",
    "# Classifiers\n",
    "from sklearn.naive_bayes import MultinomialNB\n",
    "from sklearn.naive_bayes import BernoulliNB\n",
    "import sklearn\n",
    "from sklearn.svm import LinearSVC\n",
    "\n",
    "# Confusion Matrices\n",
    "from sklearn.metrics import confusion_matrix\n",
    "from yellowbrick.classifier import ConfusionMatrix\n",
    "\n",
    "# Classification reports\n",
    "from sklearn.metrics import classification_report\n",
    "from yellowbrick.classifier import classification_report"
   ]
  },
  {
   "cell_type": "code",
   "execution_count": 30,
   "metadata": {},
   "outputs": [],
   "source": [
    "# Import csv data\n",
    "raw_data = pd.read_csv('https://raw.githubusercontent.com/tmcamero/MSADS_Portfolio/main/IST%20736%3A%20Text%20Mining%3A%20Airline%20Tweet%20Analysis/Data/Tweets.csv?token=ARVQJIE5HCNP6TG2BCK3FJTAJZVSG')"
   ]
  },
  {
   "cell_type": "markdown",
   "metadata": {},
   "source": [
    "# Explore Data"
   ]
  },
  {
   "cell_type": "code",
   "execution_count": 31,
   "metadata": {},
   "outputs": [
    {
     "data": {
      "text/plain": [
       "tweet_id                          int64\n",
       "airline_sentiment                object\n",
       "airline_sentiment_confidence    float64\n",
       "negativereason                   object\n",
       "negativereason_confidence       float64\n",
       "airline                          object\n",
       "airline_sentiment_gold           object\n",
       "name                             object\n",
       "negativereason_gold              object\n",
       "retweet_count                     int64\n",
       "text                             object\n",
       "tweet_coord                      object\n",
       "tweet_created                    object\n",
       "tweet_location                   object\n",
       "user_timezone                    object\n",
       "dtype: object"
      ]
     },
     "execution_count": 31,
     "metadata": {},
     "output_type": "execute_result"
    }
   ],
   "source": [
    "# Explore data types\n",
    "raw_data.dtypes"
   ]
  },
  {
   "cell_type": "code",
   "execution_count": 32,
   "metadata": {},
   "outputs": [
    {
     "data": {
      "text/html": [
       "<div>\n",
       "<style scoped>\n",
       "    .dataframe tbody tr th:only-of-type {\n",
       "        vertical-align: middle;\n",
       "    }\n",
       "\n",
       "    .dataframe tbody tr th {\n",
       "        vertical-align: top;\n",
       "    }\n",
       "\n",
       "    .dataframe thead th {\n",
       "        text-align: right;\n",
       "    }\n",
       "</style>\n",
       "<table border=\"1\" class=\"dataframe\">\n",
       "  <thead>\n",
       "    <tr style=\"text-align: right;\">\n",
       "      <th></th>\n",
       "      <th>tweet_id</th>\n",
       "      <th>airline_sentiment</th>\n",
       "      <th>airline_sentiment_confidence</th>\n",
       "      <th>negativereason</th>\n",
       "      <th>negativereason_confidence</th>\n",
       "      <th>airline</th>\n",
       "      <th>airline_sentiment_gold</th>\n",
       "      <th>name</th>\n",
       "      <th>negativereason_gold</th>\n",
       "      <th>retweet_count</th>\n",
       "      <th>text</th>\n",
       "      <th>tweet_coord</th>\n",
       "      <th>tweet_created</th>\n",
       "      <th>tweet_location</th>\n",
       "      <th>user_timezone</th>\n",
       "    </tr>\n",
       "  </thead>\n",
       "  <tbody>\n",
       "    <tr>\n",
       "      <th>0</th>\n",
       "      <td>570306133677760513</td>\n",
       "      <td>neutral</td>\n",
       "      <td>1.0000</td>\n",
       "      <td>NaN</td>\n",
       "      <td>NaN</td>\n",
       "      <td>Virgin America</td>\n",
       "      <td>NaN</td>\n",
       "      <td>cairdin</td>\n",
       "      <td>NaN</td>\n",
       "      <td>0</td>\n",
       "      <td>@VirginAmerica What @dhepburn said.</td>\n",
       "      <td>NaN</td>\n",
       "      <td>2015-02-24 11:35:52 -0800</td>\n",
       "      <td>NaN</td>\n",
       "      <td>Eastern Time (US &amp; Canada)</td>\n",
       "    </tr>\n",
       "    <tr>\n",
       "      <th>1</th>\n",
       "      <td>570301130888122368</td>\n",
       "      <td>positive</td>\n",
       "      <td>0.3486</td>\n",
       "      <td>NaN</td>\n",
       "      <td>0.0000</td>\n",
       "      <td>Virgin America</td>\n",
       "      <td>NaN</td>\n",
       "      <td>jnardino</td>\n",
       "      <td>NaN</td>\n",
       "      <td>0</td>\n",
       "      <td>@VirginAmerica plus you've added commercials t...</td>\n",
       "      <td>NaN</td>\n",
       "      <td>2015-02-24 11:15:59 -0800</td>\n",
       "      <td>NaN</td>\n",
       "      <td>Pacific Time (US &amp; Canada)</td>\n",
       "    </tr>\n",
       "    <tr>\n",
       "      <th>2</th>\n",
       "      <td>570301083672813571</td>\n",
       "      <td>neutral</td>\n",
       "      <td>0.6837</td>\n",
       "      <td>NaN</td>\n",
       "      <td>NaN</td>\n",
       "      <td>Virgin America</td>\n",
       "      <td>NaN</td>\n",
       "      <td>yvonnalynn</td>\n",
       "      <td>NaN</td>\n",
       "      <td>0</td>\n",
       "      <td>@VirginAmerica I didn't today... Must mean I n...</td>\n",
       "      <td>NaN</td>\n",
       "      <td>2015-02-24 11:15:48 -0800</td>\n",
       "      <td>Lets Play</td>\n",
       "      <td>Central Time (US &amp; Canada)</td>\n",
       "    </tr>\n",
       "    <tr>\n",
       "      <th>3</th>\n",
       "      <td>570301031407624196</td>\n",
       "      <td>negative</td>\n",
       "      <td>1.0000</td>\n",
       "      <td>Bad Flight</td>\n",
       "      <td>0.7033</td>\n",
       "      <td>Virgin America</td>\n",
       "      <td>NaN</td>\n",
       "      <td>jnardino</td>\n",
       "      <td>NaN</td>\n",
       "      <td>0</td>\n",
       "      <td>@VirginAmerica it's really aggressive to blast...</td>\n",
       "      <td>NaN</td>\n",
       "      <td>2015-02-24 11:15:36 -0800</td>\n",
       "      <td>NaN</td>\n",
       "      <td>Pacific Time (US &amp; Canada)</td>\n",
       "    </tr>\n",
       "    <tr>\n",
       "      <th>4</th>\n",
       "      <td>570300817074462722</td>\n",
       "      <td>negative</td>\n",
       "      <td>1.0000</td>\n",
       "      <td>Can't Tell</td>\n",
       "      <td>1.0000</td>\n",
       "      <td>Virgin America</td>\n",
       "      <td>NaN</td>\n",
       "      <td>jnardino</td>\n",
       "      <td>NaN</td>\n",
       "      <td>0</td>\n",
       "      <td>@VirginAmerica and it's a really big bad thing...</td>\n",
       "      <td>NaN</td>\n",
       "      <td>2015-02-24 11:14:45 -0800</td>\n",
       "      <td>NaN</td>\n",
       "      <td>Pacific Time (US &amp; Canada)</td>\n",
       "    </tr>\n",
       "  </tbody>\n",
       "</table>\n",
       "</div>"
      ],
      "text/plain": [
       "             tweet_id airline_sentiment  airline_sentiment_confidence  \\\n",
       "0  570306133677760513           neutral                        1.0000   \n",
       "1  570301130888122368          positive                        0.3486   \n",
       "2  570301083672813571           neutral                        0.6837   \n",
       "3  570301031407624196          negative                        1.0000   \n",
       "4  570300817074462722          negative                        1.0000   \n",
       "\n",
       "  negativereason  negativereason_confidence         airline  \\\n",
       "0            NaN                        NaN  Virgin America   \n",
       "1            NaN                     0.0000  Virgin America   \n",
       "2            NaN                        NaN  Virgin America   \n",
       "3     Bad Flight                     0.7033  Virgin America   \n",
       "4     Can't Tell                     1.0000  Virgin America   \n",
       "\n",
       "  airline_sentiment_gold        name negativereason_gold  retweet_count  \\\n",
       "0                    NaN     cairdin                 NaN              0   \n",
       "1                    NaN    jnardino                 NaN              0   \n",
       "2                    NaN  yvonnalynn                 NaN              0   \n",
       "3                    NaN    jnardino                 NaN              0   \n",
       "4                    NaN    jnardino                 NaN              0   \n",
       "\n",
       "                                                text tweet_coord  \\\n",
       "0                @VirginAmerica What @dhepburn said.         NaN   \n",
       "1  @VirginAmerica plus you've added commercials t...         NaN   \n",
       "2  @VirginAmerica I didn't today... Must mean I n...         NaN   \n",
       "3  @VirginAmerica it's really aggressive to blast...         NaN   \n",
       "4  @VirginAmerica and it's a really big bad thing...         NaN   \n",
       "\n",
       "               tweet_created tweet_location               user_timezone  \n",
       "0  2015-02-24 11:35:52 -0800            NaN  Eastern Time (US & Canada)  \n",
       "1  2015-02-24 11:15:59 -0800            NaN  Pacific Time (US & Canada)  \n",
       "2  2015-02-24 11:15:48 -0800      Lets Play  Central Time (US & Canada)  \n",
       "3  2015-02-24 11:15:36 -0800            NaN  Pacific Time (US & Canada)  \n",
       "4  2015-02-24 11:14:45 -0800            NaN  Pacific Time (US & Canada)  "
      ]
     },
     "execution_count": 32,
     "metadata": {},
     "output_type": "execute_result"
    }
   ],
   "source": [
    "# Print first 5 rows\n",
    "raw_data.head()"
   ]
  },
  {
   "cell_type": "code",
   "execution_count": 33,
   "metadata": {},
   "outputs": [
    {
     "data": {
      "text/plain": [
       "(14640, 15)"
      ]
     },
     "execution_count": 33,
     "metadata": {},
     "output_type": "execute_result"
    }
   ],
   "source": [
    "# Number of rows and columns\n",
    "raw_data.shape"
   ]
  },
  {
   "cell_type": "code",
   "execution_count": 34,
   "metadata": {},
   "outputs": [],
   "source": [
    "# Create x and y variables to train models\n",
    "# y will be sentiment or label\n",
    "# x will be text of tweets\n",
    "y = raw_data['airline_sentiment']\n",
    "x = raw_data['text']"
   ]
  },
  {
   "cell_type": "markdown",
   "metadata": {},
   "source": [
    "# Visualizations"
   ]
  },
  {
   "cell_type": "code",
   "execution_count": 35,
   "metadata": {},
   "outputs": [
    {
     "name": "stdout",
     "output_type": "stream",
     "text": [
      "[['negative' 'neutral' 'positive']\n",
      " [9178 3099 2363]]\n"
     ]
    }
   ],
   "source": [
    "# Check data for sentiment distribution\n",
    "unique, counts = np.unique(raw_data.airline_sentiment, return_counts=True)\n",
    "print(np.asarray((unique, counts)))"
   ]
  },
  {
   "cell_type": "code",
   "execution_count": 36,
   "metadata": {},
   "outputs": [
    {
     "data": {
      "image/png": "[encoded data removed]",
      "text/plain": [
       "<Figure size 432x288 with 1 Axes>"
      ]
     },
     "metadata": {
      "needs_background": "light"
     },
     "output_type": "display_data"
    }
   ],
   "source": [
    "# Create sentiment count plot\n",
    "sns.countplot(x = 'airline_sentiment', data = raw_data)\n",
    "plt.ylabel('Count')\n",
    "plt.xlabel('Sentiment Label')\n",
    "plt.title('Tweet Sentiment Labels')\n",
    "plt.show()"
   ]
  },
  {
   "cell_type": "code",
   "execution_count": 87,
   "metadata": {},
   "outputs": [
    {
     "name": "stdout",
     "output_type": "stream",
     "text": [
      "negative    9178\n",
      "neutral     3099\n",
      "positive    2363\n",
      "Name: airline_sentiment, dtype: int64\n"
     ]
    },
    {
     "data": {
      "image/png": "[encoded data removed]",
      "text/plain": [
       "<Figure size 432x288 with 1 Axes>"
      ]
     },
     "metadata": {},
     "output_type": "display_data"
    }
   ],
   "source": [
    "# Plot of sentiment distribution\n",
    "\n",
    "yclass = y.value_counts()\n",
    "print(yclass)\n",
    "labels = yclass.index.values.tolist()\n",
    "values = yclass.values.tolist()\n",
    "explode = (0.05, 0.05, 0.05)\n",
    "\n",
    "plt.pie(values, explode = explode, labels = labels,\n",
    "        autopct = '%1.1f%%', shadow = True, startangle = 140)\n",
    "plt.show()"
   ]
  },
  {
   "cell_type": "code",
   "execution_count": 37,
   "metadata": {},
   "outputs": [
    {
     "data": {
      "image/png": "[encoded data removed]",
      "text/plain": [
       "<Figure size 432x288 with 1 Axes>"
      ]
     },
     "metadata": {
      "needs_background": "light"
     },
     "output_type": "display_data"
    }
   ],
   "source": [
    "# Create sentiment count by airline\n",
    "sns.countplot(x = 'airline', hue = 'airline_sentiment', data = raw_data)\n",
    "plt.ylabel('Number of Tweets')\n",
    "plt.xlabel('Airline')\n",
    "plt.title('Number of Tweets by Sentiment and Airline')\n",
    "plt.legend(loc = 'upper left')\n",
    "plt.xticks(rotation = 45, ha = 'right')\n",
    "plt.show()"
   ]
  },
  {
   "cell_type": "code",
   "execution_count": 38,
   "metadata": {},
   "outputs": [
    {
     "data": {
      "text/html": [
       "<div>\n",
       "<style scoped>\n",
       "    .dataframe tbody tr th:only-of-type {\n",
       "        vertical-align: middle;\n",
       "    }\n",
       "\n",
       "    .dataframe tbody tr th {\n",
       "        vertical-align: top;\n",
       "    }\n",
       "\n",
       "    .dataframe thead th {\n",
       "        text-align: right;\n",
       "    }\n",
       "</style>\n",
       "<table border=\"1\" class=\"dataframe\">\n",
       "  <thead>\n",
       "    <tr style=\"text-align: right;\">\n",
       "      <th></th>\n",
       "      <th>tweet_id</th>\n",
       "      <th>airline_sentiment</th>\n",
       "      <th>airline_sentiment_confidence</th>\n",
       "      <th>negativereason</th>\n",
       "      <th>negativereason_confidence</th>\n",
       "      <th>airline</th>\n",
       "      <th>airline_sentiment_gold</th>\n",
       "      <th>name</th>\n",
       "      <th>negativereason_gold</th>\n",
       "      <th>retweet_count</th>\n",
       "      <th>text</th>\n",
       "      <th>tweet_coord</th>\n",
       "      <th>tweet_created</th>\n",
       "      <th>tweet_location</th>\n",
       "      <th>user_timezone</th>\n",
       "      <th>tweet_length</th>\n",
       "    </tr>\n",
       "  </thead>\n",
       "  <tbody>\n",
       "    <tr>\n",
       "      <th>0</th>\n",
       "      <td>570306133677760513</td>\n",
       "      <td>neutral</td>\n",
       "      <td>1.0000</td>\n",
       "      <td>NaN</td>\n",
       "      <td>NaN</td>\n",
       "      <td>Virgin America</td>\n",
       "      <td>NaN</td>\n",
       "      <td>cairdin</td>\n",
       "      <td>NaN</td>\n",
       "      <td>0</td>\n",
       "      <td>@VirginAmerica What @dhepburn said.</td>\n",
       "      <td>NaN</td>\n",
       "      <td>2015-02-24 11:35:52 -0800</td>\n",
       "      <td>NaN</td>\n",
       "      <td>Eastern Time (US &amp; Canada)</td>\n",
       "      <td>35</td>\n",
       "    </tr>\n",
       "    <tr>\n",
       "      <th>1</th>\n",
       "      <td>570301130888122368</td>\n",
       "      <td>positive</td>\n",
       "      <td>0.3486</td>\n",
       "      <td>NaN</td>\n",
       "      <td>0.0000</td>\n",
       "      <td>Virgin America</td>\n",
       "      <td>NaN</td>\n",
       "      <td>jnardino</td>\n",
       "      <td>NaN</td>\n",
       "      <td>0</td>\n",
       "      <td>@VirginAmerica plus you've added commercials t...</td>\n",
       "      <td>NaN</td>\n",
       "      <td>2015-02-24 11:15:59 -0800</td>\n",
       "      <td>NaN</td>\n",
       "      <td>Pacific Time (US &amp; Canada)</td>\n",
       "      <td>72</td>\n",
       "    </tr>\n",
       "    <tr>\n",
       "      <th>2</th>\n",
       "      <td>570301083672813571</td>\n",
       "      <td>neutral</td>\n",
       "      <td>0.6837</td>\n",
       "      <td>NaN</td>\n",
       "      <td>NaN</td>\n",
       "      <td>Virgin America</td>\n",
       "      <td>NaN</td>\n",
       "      <td>yvonnalynn</td>\n",
       "      <td>NaN</td>\n",
       "      <td>0</td>\n",
       "      <td>@VirginAmerica I didn't today... Must mean I n...</td>\n",
       "      <td>NaN</td>\n",
       "      <td>2015-02-24 11:15:48 -0800</td>\n",
       "      <td>Lets Play</td>\n",
       "      <td>Central Time (US &amp; Canada)</td>\n",
       "      <td>71</td>\n",
       "    </tr>\n",
       "    <tr>\n",
       "      <th>3</th>\n",
       "      <td>570301031407624196</td>\n",
       "      <td>negative</td>\n",
       "      <td>1.0000</td>\n",
       "      <td>Bad Flight</td>\n",
       "      <td>0.7033</td>\n",
       "      <td>Virgin America</td>\n",
       "      <td>NaN</td>\n",
       "      <td>jnardino</td>\n",
       "      <td>NaN</td>\n",
       "      <td>0</td>\n",
       "      <td>@VirginAmerica it's really aggressive to blast...</td>\n",
       "      <td>NaN</td>\n",
       "      <td>2015-02-24 11:15:36 -0800</td>\n",
       "      <td>NaN</td>\n",
       "      <td>Pacific Time (US &amp; Canada)</td>\n",
       "      <td>126</td>\n",
       "    </tr>\n",
       "    <tr>\n",
       "      <th>4</th>\n",
       "      <td>570300817074462722</td>\n",
       "      <td>negative</td>\n",
       "      <td>1.0000</td>\n",
       "      <td>Can't Tell</td>\n",
       "      <td>1.0000</td>\n",
       "      <td>Virgin America</td>\n",
       "      <td>NaN</td>\n",
       "      <td>jnardino</td>\n",
       "      <td>NaN</td>\n",
       "      <td>0</td>\n",
       "      <td>@VirginAmerica and it's a really big bad thing...</td>\n",
       "      <td>NaN</td>\n",
       "      <td>2015-02-24 11:14:45 -0800</td>\n",
       "      <td>NaN</td>\n",
       "      <td>Pacific Time (US &amp; Canada)</td>\n",
       "      <td>55</td>\n",
       "    </tr>\n",
       "  </tbody>\n",
       "</table>\n",
       "</div>"
      ],
      "text/plain": [
       "             tweet_id airline_sentiment  airline_sentiment_confidence  \\\n",
       "0  570306133677760513           neutral                        1.0000   \n",
       "1  570301130888122368          positive                        0.3486   \n",
       "2  570301083672813571           neutral                        0.6837   \n",
       "3  570301031407624196          negative                        1.0000   \n",
       "4  570300817074462722          negative                        1.0000   \n",
       "\n",
       "  negativereason  negativereason_confidence         airline  \\\n",
       "0            NaN                        NaN  Virgin America   \n",
       "1            NaN                     0.0000  Virgin America   \n",
       "2            NaN                        NaN  Virgin America   \n",
       "3     Bad Flight                     0.7033  Virgin America   \n",
       "4     Can't Tell                     1.0000  Virgin America   \n",
       "\n",
       "  airline_sentiment_gold        name negativereason_gold  retweet_count  \\\n",
       "0                    NaN     cairdin                 NaN              0   \n",
       "1                    NaN    jnardino                 NaN              0   \n",
       "2                    NaN  yvonnalynn                 NaN              0   \n",
       "3                    NaN    jnardino                 NaN              0   \n",
       "4                    NaN    jnardino                 NaN              0   \n",
       "\n",
       "                                                text tweet_coord  \\\n",
       "0                @VirginAmerica What @dhepburn said.         NaN   \n",
       "1  @VirginAmerica plus you've added commercials t...         NaN   \n",
       "2  @VirginAmerica I didn't today... Must mean I n...         NaN   \n",
       "3  @VirginAmerica it's really aggressive to blast...         NaN   \n",
       "4  @VirginAmerica and it's a really big bad thing...         NaN   \n",
       "\n",
       "               tweet_created tweet_location               user_timezone  \\\n",
       "0  2015-02-24 11:35:52 -0800            NaN  Eastern Time (US & Canada)   \n",
       "1  2015-02-24 11:15:59 -0800            NaN  Pacific Time (US & Canada)   \n",
       "2  2015-02-24 11:15:48 -0800      Lets Play  Central Time (US & Canada)   \n",
       "3  2015-02-24 11:15:36 -0800            NaN  Pacific Time (US & Canada)   \n",
       "4  2015-02-24 11:14:45 -0800            NaN  Pacific Time (US & Canada)   \n",
       "\n",
       "   tweet_length  \n",
       "0            35  \n",
       "1            72  \n",
       "2            71  \n",
       "3           126  \n",
       "4            55  "
      ]
     },
     "execution_count": 38,
     "metadata": {},
     "output_type": "execute_result"
    }
   ],
   "source": [
    "# Create column of tweet length\n",
    "raw_data['tweet_length'] = raw_data['text'].astype(str).apply(len)\n",
    "raw_data.head()"
   ]
  },
  {
   "cell_type": "code",
   "execution_count": 39,
   "metadata": {},
   "outputs": [],
   "source": [
    "# Create dataframe of tweet length by sentiment\n",
    "neg_len = raw_data[raw_data.airline_sentiment == 'negative']\n",
    "pos_len = raw_data[raw_data.airline_sentiment == 'positive']\n",
    "neu_len = raw_data[raw_data.airline_sentiment == 'neutral']"
   ]
  },
  {
   "cell_type": "code",
   "execution_count": 40,
   "metadata": {},
   "outputs": [
    {
     "data": {
      "text/plain": [
       "tweet_length    113.947919\n",
       "dtype: float64"
      ]
     },
     "execution_count": 40,
     "metadata": {},
     "output_type": "execute_result"
    },
    {
     "data": {
      "image/png": "[encoded data removed]",
      "text/plain": [
       "<Figure size 432x288 with 1 Axes>"
      ]
     },
     "metadata": {
      "needs_background": "light"
     },
     "output_type": "display_data"
    }
   ],
   "source": [
    "# Histogram of tweet length by sentiment\n",
    "plt.hist(neg_len['tweet_length'])\n",
    "neg_len[['tweet_length']].mean()"
   ]
  },
  {
   "cell_type": "code",
   "execution_count": 41,
   "metadata": {},
   "outputs": [
    {
     "data": {
      "text/plain": [
       "tweet_length    86.082945\n",
       "dtype: float64"
      ]
     },
     "execution_count": 41,
     "metadata": {},
     "output_type": "execute_result"
    },
    {
     "data": {
      "image/png": "[encoded data removed]",
      "text/plain": [
       "<Figure size 432x288 with 1 Axes>"
      ]
     },
     "metadata": {
      "needs_background": "light"
     },
     "output_type": "display_data"
    }
   ],
   "source": [
    "plt.hist(pos_len['tweet_length'])\n",
    "pos_len[['tweet_length']].mean()"
   ]
  },
  {
   "cell_type": "code",
   "execution_count": 42,
   "metadata": {},
   "outputs": [
    {
     "data": {
      "text/plain": [
       "tweet_length    87.359471\n",
       "dtype: float64"
      ]
     },
     "execution_count": 42,
     "metadata": {},
     "output_type": "execute_result"
    },
    {
     "data": {
      "image/png": "[encoded data removed]",
      "text/plain": [
       "<Figure size 432x288 with 1 Axes>"
      ]
     },
     "metadata": {
      "needs_background": "light"
     },
     "output_type": "display_data"
    }
   ],
   "source": [
    "plt.hist(neu_len['tweet_length'])\n",
    "neu_len[['tweet_length']].mean()"
   ]
  },
  {
   "cell_type": "code",
   "execution_count": 43,
   "metadata": {},
   "outputs": [
    {
     "data": {
      "image/png": "[encoded data removed]",
      "text/plain": [
       "<Figure size 1080x504 with 1 Axes>"
      ]
     },
     "metadata": {
      "needs_background": "light"
     },
     "output_type": "display_data"
    }
   ],
   "source": [
    "# Create box plot of tweet length\n",
    "\n",
    "# Set figure size\n",
    "fig, ax = plt.subplots(figsize = (15 , 7))\n",
    "\n",
    "# Remove top and right border\n",
    "ax.spines['top'].set_visible(False)\n",
    "ax.spines['right'].set_visible(False)\n",
    "ax.spines['left'].set_visible(False)\n",
    "\n",
    "# Remove y-axis tick marks\n",
    "ax.yaxis.set_ticks_position('none')\n",
    "\n",
    "sns.boxplot(y = 'airline_sentiment', x = 'tweet_length', data = raw_data)\n",
    "ax.set_title('Tweet Length by Sentiment')\n",
    "ax.set_ylabel('Sentiment')\n",
    "ax.set_xlabel('Tweet Length')\n",
    "plt.show()"
   ]
  },
  {
   "cell_type": "code",
   "execution_count": 44,
   "metadata": {},
   "outputs": [],
   "source": [
    "# Create data frame of negative reasons count\n",
    "neg_data = pd.pivot_table(raw_data, index = ['negativereason', 'airline'], values = ['tweet_id'],\n",
    "                         aggfunc = 'count').sort_values(by = 'tweet_id', ascending = False)\n",
    "# Reset index to make reason column\n",
    "neg_data = neg_data.reset_index()"
   ]
  },
  {
   "cell_type": "code",
   "execution_count": 45,
   "metadata": {},
   "outputs": [
    {
     "data": {
      "text/html": [
       "<div>\n",
       "<style scoped>\n",
       "    .dataframe tbody tr th:only-of-type {\n",
       "        vertical-align: middle;\n",
       "    }\n",
       "\n",
       "    .dataframe tbody tr th {\n",
       "        vertical-align: top;\n",
       "    }\n",
       "\n",
       "    .dataframe thead th {\n",
       "        text-align: right;\n",
       "    }\n",
       "</style>\n",
       "<table border=\"1\" class=\"dataframe\">\n",
       "  <thead>\n",
       "    <tr style=\"text-align: right;\">\n",
       "      <th></th>\n",
       "      <th>negativereason</th>\n",
       "      <th>airline</th>\n",
       "      <th>tweet_id</th>\n",
       "    </tr>\n",
       "  </thead>\n",
       "  <tbody>\n",
       "    <tr>\n",
       "      <th>0</th>\n",
       "      <td>Customer Service Issue</td>\n",
       "      <td>US Airways</td>\n",
       "      <td>811</td>\n",
       "    </tr>\n",
       "    <tr>\n",
       "      <th>1</th>\n",
       "      <td>Customer Service Issue</td>\n",
       "      <td>American</td>\n",
       "      <td>768</td>\n",
       "    </tr>\n",
       "    <tr>\n",
       "      <th>2</th>\n",
       "      <td>Customer Service Issue</td>\n",
       "      <td>United</td>\n",
       "      <td>681</td>\n",
       "    </tr>\n",
       "    <tr>\n",
       "      <th>3</th>\n",
       "      <td>Late Flight</td>\n",
       "      <td>United</td>\n",
       "      <td>525</td>\n",
       "    </tr>\n",
       "    <tr>\n",
       "      <th>4</th>\n",
       "      <td>Late Flight</td>\n",
       "      <td>US Airways</td>\n",
       "      <td>453</td>\n",
       "    </tr>\n",
       "    <tr>\n",
       "      <th>5</th>\n",
       "      <td>Customer Service Issue</td>\n",
       "      <td>Southwest</td>\n",
       "      <td>391</td>\n",
       "    </tr>\n",
       "    <tr>\n",
       "      <th>6</th>\n",
       "      <td>Can't Tell</td>\n",
       "      <td>United</td>\n",
       "      <td>379</td>\n",
       "    </tr>\n",
       "    <tr>\n",
       "      <th>7</th>\n",
       "      <td>Late Flight</td>\n",
       "      <td>Delta</td>\n",
       "      <td>269</td>\n",
       "    </tr>\n",
       "    <tr>\n",
       "      <th>8</th>\n",
       "      <td>Lost Luggage</td>\n",
       "      <td>United</td>\n",
       "      <td>269</td>\n",
       "    </tr>\n",
       "    <tr>\n",
       "      <th>9</th>\n",
       "      <td>Late Flight</td>\n",
       "      <td>American</td>\n",
       "      <td>249</td>\n",
       "    </tr>\n",
       "    <tr>\n",
       "      <th>10</th>\n",
       "      <td>Can't Tell</td>\n",
       "      <td>US Airways</td>\n",
       "      <td>246</td>\n",
       "    </tr>\n",
       "    <tr>\n",
       "      <th>11</th>\n",
       "      <td>Cancelled Flight</td>\n",
       "      <td>American</td>\n",
       "      <td>246</td>\n",
       "    </tr>\n",
       "    <tr>\n",
       "      <th>12</th>\n",
       "      <td>Bad Flight</td>\n",
       "      <td>United</td>\n",
       "      <td>216</td>\n",
       "    </tr>\n",
       "    <tr>\n",
       "      <th>13</th>\n",
       "      <td>Customer Service Issue</td>\n",
       "      <td>Delta</td>\n",
       "      <td>199</td>\n",
       "    </tr>\n",
       "    <tr>\n",
       "      <th>14</th>\n",
       "      <td>Can't Tell</td>\n",
       "      <td>American</td>\n",
       "      <td>198</td>\n",
       "    </tr>\n",
       "    <tr>\n",
       "      <th>15</th>\n",
       "      <td>Cancelled Flight</td>\n",
       "      <td>US Airways</td>\n",
       "      <td>189</td>\n",
       "    </tr>\n",
       "    <tr>\n",
       "      <th>16</th>\n",
       "      <td>Can't Tell</td>\n",
       "      <td>Delta</td>\n",
       "      <td>186</td>\n",
       "    </tr>\n",
       "    <tr>\n",
       "      <th>17</th>\n",
       "      <td>Cancelled Flight</td>\n",
       "      <td>United</td>\n",
       "      <td>181</td>\n",
       "    </tr>\n",
       "    <tr>\n",
       "      <th>18</th>\n",
       "      <td>Flight Attendant Complaints</td>\n",
       "      <td>United</td>\n",
       "      <td>168</td>\n",
       "    </tr>\n",
       "    <tr>\n",
       "      <th>19</th>\n",
       "      <td>Cancelled Flight</td>\n",
       "      <td>Southwest</td>\n",
       "      <td>162</td>\n",
       "    </tr>\n",
       "    <tr>\n",
       "      <th>20</th>\n",
       "      <td>Can't Tell</td>\n",
       "      <td>Southwest</td>\n",
       "      <td>159</td>\n",
       "    </tr>\n",
       "    <tr>\n",
       "      <th>21</th>\n",
       "      <td>Lost Luggage</td>\n",
       "      <td>US Airways</td>\n",
       "      <td>154</td>\n",
       "    </tr>\n",
       "    <tr>\n",
       "      <th>22</th>\n",
       "      <td>Late Flight</td>\n",
       "      <td>Southwest</td>\n",
       "      <td>152</td>\n",
       "    </tr>\n",
       "    <tr>\n",
       "      <th>23</th>\n",
       "      <td>Lost Luggage</td>\n",
       "      <td>American</td>\n",
       "      <td>149</td>\n",
       "    </tr>\n",
       "    <tr>\n",
       "      <th>24</th>\n",
       "      <td>Flight Booking Problems</td>\n",
       "      <td>United</td>\n",
       "      <td>144</td>\n",
       "    </tr>\n",
       "    <tr>\n",
       "      <th>25</th>\n",
       "      <td>Flight Booking Problems</td>\n",
       "      <td>American</td>\n",
       "      <td>130</td>\n",
       "    </tr>\n",
       "    <tr>\n",
       "      <th>26</th>\n",
       "      <td>Flight Attendant Complaints</td>\n",
       "      <td>US Airways</td>\n",
       "      <td>123</td>\n",
       "    </tr>\n",
       "    <tr>\n",
       "      <th>27</th>\n",
       "      <td>Flight Booking Problems</td>\n",
       "      <td>US Airways</td>\n",
       "      <td>122</td>\n",
       "    </tr>\n",
       "    <tr>\n",
       "      <th>28</th>\n",
       "      <td>Bad Flight</td>\n",
       "      <td>US Airways</td>\n",
       "      <td>104</td>\n",
       "    </tr>\n",
       "    <tr>\n",
       "      <th>29</th>\n",
       "      <td>Lost Luggage</td>\n",
       "      <td>Southwest</td>\n",
       "      <td>90</td>\n",
       "    </tr>\n",
       "    <tr>\n",
       "      <th>30</th>\n",
       "      <td>Bad Flight</td>\n",
       "      <td>Southwest</td>\n",
       "      <td>90</td>\n",
       "    </tr>\n",
       "    <tr>\n",
       "      <th>31</th>\n",
       "      <td>Bad Flight</td>\n",
       "      <td>American</td>\n",
       "      <td>87</td>\n",
       "    </tr>\n",
       "    <tr>\n",
       "      <th>32</th>\n",
       "      <td>Flight Attendant Complaints</td>\n",
       "      <td>American</td>\n",
       "      <td>87</td>\n",
       "    </tr>\n",
       "    <tr>\n",
       "      <th>33</th>\n",
       "      <td>Bad Flight</td>\n",
       "      <td>Delta</td>\n",
       "      <td>64</td>\n",
       "    </tr>\n",
       "    <tr>\n",
       "      <th>34</th>\n",
       "      <td>Flight Booking Problems</td>\n",
       "      <td>Southwest</td>\n",
       "      <td>61</td>\n",
       "    </tr>\n",
       "    <tr>\n",
       "      <th>35</th>\n",
       "      <td>Customer Service Issue</td>\n",
       "      <td>Virgin America</td>\n",
       "      <td>60</td>\n",
       "    </tr>\n",
       "    <tr>\n",
       "      <th>36</th>\n",
       "      <td>Flight Attendant Complaints</td>\n",
       "      <td>Delta</td>\n",
       "      <td>60</td>\n",
       "    </tr>\n",
       "    <tr>\n",
       "      <th>37</th>\n",
       "      <td>Lost Luggage</td>\n",
       "      <td>Delta</td>\n",
       "      <td>57</td>\n",
       "    </tr>\n",
       "    <tr>\n",
       "      <th>38</th>\n",
       "      <td>Cancelled Flight</td>\n",
       "      <td>Delta</td>\n",
       "      <td>51</td>\n",
       "    </tr>\n",
       "    <tr>\n",
       "      <th>39</th>\n",
       "      <td>longlines</td>\n",
       "      <td>US Airways</td>\n",
       "      <td>50</td>\n",
       "    </tr>\n",
       "    <tr>\n",
       "      <th>40</th>\n",
       "      <td>longlines</td>\n",
       "      <td>United</td>\n",
       "      <td>48</td>\n",
       "    </tr>\n",
       "    <tr>\n",
       "      <th>41</th>\n",
       "      <td>Flight Booking Problems</td>\n",
       "      <td>Delta</td>\n",
       "      <td>44</td>\n",
       "    </tr>\n",
       "    <tr>\n",
       "      <th>42</th>\n",
       "      <td>Flight Attendant Complaints</td>\n",
       "      <td>Southwest</td>\n",
       "      <td>38</td>\n",
       "    </tr>\n",
       "    <tr>\n",
       "      <th>43</th>\n",
       "      <td>longlines</td>\n",
       "      <td>American</td>\n",
       "      <td>34</td>\n",
       "    </tr>\n",
       "    <tr>\n",
       "      <th>44</th>\n",
       "      <td>longlines</td>\n",
       "      <td>Southwest</td>\n",
       "      <td>29</td>\n",
       "    </tr>\n",
       "    <tr>\n",
       "      <th>45</th>\n",
       "      <td>Flight Booking Problems</td>\n",
       "      <td>Virgin America</td>\n",
       "      <td>28</td>\n",
       "    </tr>\n",
       "    <tr>\n",
       "      <th>46</th>\n",
       "      <td>Can't Tell</td>\n",
       "      <td>Virgin America</td>\n",
       "      <td>22</td>\n",
       "    </tr>\n",
       "    <tr>\n",
       "      <th>47</th>\n",
       "      <td>Damaged Luggage</td>\n",
       "      <td>United</td>\n",
       "      <td>22</td>\n",
       "    </tr>\n",
       "    <tr>\n",
       "      <th>48</th>\n",
       "      <td>Bad Flight</td>\n",
       "      <td>Virgin America</td>\n",
       "      <td>19</td>\n",
       "    </tr>\n",
       "    <tr>\n",
       "      <th>49</th>\n",
       "      <td>Cancelled Flight</td>\n",
       "      <td>Virgin America</td>\n",
       "      <td>18</td>\n",
       "    </tr>\n",
       "    <tr>\n",
       "      <th>50</th>\n",
       "      <td>Late Flight</td>\n",
       "      <td>Virgin America</td>\n",
       "      <td>17</td>\n",
       "    </tr>\n",
       "    <tr>\n",
       "      <th>51</th>\n",
       "      <td>longlines</td>\n",
       "      <td>Delta</td>\n",
       "      <td>14</td>\n",
       "    </tr>\n",
       "    <tr>\n",
       "      <th>52</th>\n",
       "      <td>Damaged Luggage</td>\n",
       "      <td>Southwest</td>\n",
       "      <td>14</td>\n",
       "    </tr>\n",
       "    <tr>\n",
       "      <th>53</th>\n",
       "      <td>Damaged Luggage</td>\n",
       "      <td>American</td>\n",
       "      <td>12</td>\n",
       "    </tr>\n",
       "    <tr>\n",
       "      <th>54</th>\n",
       "      <td>Damaged Luggage</td>\n",
       "      <td>Delta</td>\n",
       "      <td>11</td>\n",
       "    </tr>\n",
       "    <tr>\n",
       "      <th>55</th>\n",
       "      <td>Damaged Luggage</td>\n",
       "      <td>US Airways</td>\n",
       "      <td>11</td>\n",
       "    </tr>\n",
       "    <tr>\n",
       "      <th>56</th>\n",
       "      <td>Lost Luggage</td>\n",
       "      <td>Virgin America</td>\n",
       "      <td>5</td>\n",
       "    </tr>\n",
       "    <tr>\n",
       "      <th>57</th>\n",
       "      <td>Flight Attendant Complaints</td>\n",
       "      <td>Virgin America</td>\n",
       "      <td>5</td>\n",
       "    </tr>\n",
       "    <tr>\n",
       "      <th>58</th>\n",
       "      <td>Damaged Luggage</td>\n",
       "      <td>Virgin America</td>\n",
       "      <td>4</td>\n",
       "    </tr>\n",
       "    <tr>\n",
       "      <th>59</th>\n",
       "      <td>longlines</td>\n",
       "      <td>Virgin America</td>\n",
       "      <td>3</td>\n",
       "    </tr>\n",
       "  </tbody>\n",
       "</table>\n",
       "</div>"
      ],
      "text/plain": [
       "                 negativereason         airline  tweet_id\n",
       "0        Customer Service Issue      US Airways       811\n",
       "1        Customer Service Issue        American       768\n",
       "2        Customer Service Issue          United       681\n",
       "3                   Late Flight          United       525\n",
       "4                   Late Flight      US Airways       453\n",
       "5        Customer Service Issue       Southwest       391\n",
       "6                    Can't Tell          United       379\n",
       "7                   Late Flight           Delta       269\n",
       "8                  Lost Luggage          United       269\n",
       "9                   Late Flight        American       249\n",
       "10                   Can't Tell      US Airways       246\n",
       "11             Cancelled Flight        American       246\n",
       "12                   Bad Flight          United       216\n",
       "13       Customer Service Issue           Delta       199\n",
       "14                   Can't Tell        American       198\n",
       "15             Cancelled Flight      US Airways       189\n",
       "16                   Can't Tell           Delta       186\n",
       "17             Cancelled Flight          United       181\n",
       "18  Flight Attendant Complaints          United       168\n",
       "19             Cancelled Flight       Southwest       162\n",
       "20                   Can't Tell       Southwest       159\n",
       "21                 Lost Luggage      US Airways       154\n",
       "22                  Late Flight       Southwest       152\n",
       "23                 Lost Luggage        American       149\n",
       "24      Flight Booking Problems          United       144\n",
       "25      Flight Booking Problems        American       130\n",
       "26  Flight Attendant Complaints      US Airways       123\n",
       "27      Flight Booking Problems      US Airways       122\n",
       "28                   Bad Flight      US Airways       104\n",
       "29                 Lost Luggage       Southwest        90\n",
       "30                   Bad Flight       Southwest        90\n",
       "31                   Bad Flight        American        87\n",
       "32  Flight Attendant Complaints        American        87\n",
       "33                   Bad Flight           Delta        64\n",
       "34      Flight Booking Problems       Southwest        61\n",
       "35       Customer Service Issue  Virgin America        60\n",
       "36  Flight Attendant Complaints           Delta        60\n",
       "37                 Lost Luggage           Delta        57\n",
       "38             Cancelled Flight           Delta        51\n",
       "39                    longlines      US Airways        50\n",
       "40                    longlines          United        48\n",
       "41      Flight Booking Problems           Delta        44\n",
       "42  Flight Attendant Complaints       Southwest        38\n",
       "43                    longlines        American        34\n",
       "44                    longlines       Southwest        29\n",
       "45      Flight Booking Problems  Virgin America        28\n",
       "46                   Can't Tell  Virgin America        22\n",
       "47              Damaged Luggage          United        22\n",
       "48                   Bad Flight  Virgin America        19\n",
       "49             Cancelled Flight  Virgin America        18\n",
       "50                  Late Flight  Virgin America        17\n",
       "51                    longlines           Delta        14\n",
       "52              Damaged Luggage       Southwest        14\n",
       "53              Damaged Luggage        American        12\n",
       "54              Damaged Luggage           Delta        11\n",
       "55              Damaged Luggage      US Airways        11\n",
       "56                 Lost Luggage  Virgin America         5\n",
       "57  Flight Attendant Complaints  Virgin America         5\n",
       "58              Damaged Luggage  Virgin America         4\n",
       "59                    longlines  Virgin America         3"
      ]
     },
     "execution_count": 45,
     "metadata": {},
     "output_type": "execute_result"
    }
   ],
   "source": [
    "neg_data"
   ]
  },
  {
   "cell_type": "code",
   "execution_count": 46,
   "metadata": {},
   "outputs": [],
   "source": [
    "# Replace 'longlines' with Long Lines\n",
    "neg_data['negativereason'] = neg_data['negativereason'].replace('longlines', 'Long Lines') "
   ]
  },
  {
   "cell_type": "code",
   "execution_count": 47,
   "metadata": {},
   "outputs": [
    {
     "data": {
      "text/html": [
       "<div>\n",
       "<style scoped>\n",
       "    .dataframe tbody tr th:only-of-type {\n",
       "        vertical-align: middle;\n",
       "    }\n",
       "\n",
       "    .dataframe tbody tr th {\n",
       "        vertical-align: top;\n",
       "    }\n",
       "\n",
       "    .dataframe thead th {\n",
       "        text-align: right;\n",
       "    }\n",
       "</style>\n",
       "<table border=\"1\" class=\"dataframe\">\n",
       "  <thead>\n",
       "    <tr style=\"text-align: right;\">\n",
       "      <th></th>\n",
       "      <th>negativereason</th>\n",
       "      <th>airline</th>\n",
       "      <th>tweet_id</th>\n",
       "    </tr>\n",
       "  </thead>\n",
       "  <tbody>\n",
       "    <tr>\n",
       "      <th>0</th>\n",
       "      <td>Customer Service Issue</td>\n",
       "      <td>US Airways</td>\n",
       "      <td>811</td>\n",
       "    </tr>\n",
       "    <tr>\n",
       "      <th>1</th>\n",
       "      <td>Customer Service Issue</td>\n",
       "      <td>American</td>\n",
       "      <td>768</td>\n",
       "    </tr>\n",
       "    <tr>\n",
       "      <th>2</th>\n",
       "      <td>Customer Service Issue</td>\n",
       "      <td>United</td>\n",
       "      <td>681</td>\n",
       "    </tr>\n",
       "    <tr>\n",
       "      <th>3</th>\n",
       "      <td>Late Flight</td>\n",
       "      <td>United</td>\n",
       "      <td>525</td>\n",
       "    </tr>\n",
       "    <tr>\n",
       "      <th>4</th>\n",
       "      <td>Late Flight</td>\n",
       "      <td>US Airways</td>\n",
       "      <td>453</td>\n",
       "    </tr>\n",
       "    <tr>\n",
       "      <th>5</th>\n",
       "      <td>Customer Service Issue</td>\n",
       "      <td>Southwest</td>\n",
       "      <td>391</td>\n",
       "    </tr>\n",
       "    <tr>\n",
       "      <th>6</th>\n",
       "      <td>Can't Tell</td>\n",
       "      <td>United</td>\n",
       "      <td>379</td>\n",
       "    </tr>\n",
       "    <tr>\n",
       "      <th>7</th>\n",
       "      <td>Late Flight</td>\n",
       "      <td>Delta</td>\n",
       "      <td>269</td>\n",
       "    </tr>\n",
       "    <tr>\n",
       "      <th>8</th>\n",
       "      <td>Lost Luggage</td>\n",
       "      <td>United</td>\n",
       "      <td>269</td>\n",
       "    </tr>\n",
       "    <tr>\n",
       "      <th>9</th>\n",
       "      <td>Late Flight</td>\n",
       "      <td>American</td>\n",
       "      <td>249</td>\n",
       "    </tr>\n",
       "    <tr>\n",
       "      <th>10</th>\n",
       "      <td>Can't Tell</td>\n",
       "      <td>US Airways</td>\n",
       "      <td>246</td>\n",
       "    </tr>\n",
       "    <tr>\n",
       "      <th>11</th>\n",
       "      <td>Cancelled Flight</td>\n",
       "      <td>American</td>\n",
       "      <td>246</td>\n",
       "    </tr>\n",
       "    <tr>\n",
       "      <th>12</th>\n",
       "      <td>Bad Flight</td>\n",
       "      <td>United</td>\n",
       "      <td>216</td>\n",
       "    </tr>\n",
       "    <tr>\n",
       "      <th>13</th>\n",
       "      <td>Customer Service Issue</td>\n",
       "      <td>Delta</td>\n",
       "      <td>199</td>\n",
       "    </tr>\n",
       "    <tr>\n",
       "      <th>14</th>\n",
       "      <td>Can't Tell</td>\n",
       "      <td>American</td>\n",
       "      <td>198</td>\n",
       "    </tr>\n",
       "    <tr>\n",
       "      <th>15</th>\n",
       "      <td>Cancelled Flight</td>\n",
       "      <td>US Airways</td>\n",
       "      <td>189</td>\n",
       "    </tr>\n",
       "    <tr>\n",
       "      <th>16</th>\n",
       "      <td>Can't Tell</td>\n",
       "      <td>Delta</td>\n",
       "      <td>186</td>\n",
       "    </tr>\n",
       "    <tr>\n",
       "      <th>17</th>\n",
       "      <td>Cancelled Flight</td>\n",
       "      <td>United</td>\n",
       "      <td>181</td>\n",
       "    </tr>\n",
       "    <tr>\n",
       "      <th>18</th>\n",
       "      <td>Flight Attendant Complaints</td>\n",
       "      <td>United</td>\n",
       "      <td>168</td>\n",
       "    </tr>\n",
       "    <tr>\n",
       "      <th>19</th>\n",
       "      <td>Cancelled Flight</td>\n",
       "      <td>Southwest</td>\n",
       "      <td>162</td>\n",
       "    </tr>\n",
       "    <tr>\n",
       "      <th>20</th>\n",
       "      <td>Can't Tell</td>\n",
       "      <td>Southwest</td>\n",
       "      <td>159</td>\n",
       "    </tr>\n",
       "    <tr>\n",
       "      <th>21</th>\n",
       "      <td>Lost Luggage</td>\n",
       "      <td>US Airways</td>\n",
       "      <td>154</td>\n",
       "    </tr>\n",
       "    <tr>\n",
       "      <th>22</th>\n",
       "      <td>Late Flight</td>\n",
       "      <td>Southwest</td>\n",
       "      <td>152</td>\n",
       "    </tr>\n",
       "    <tr>\n",
       "      <th>23</th>\n",
       "      <td>Lost Luggage</td>\n",
       "      <td>American</td>\n",
       "      <td>149</td>\n",
       "    </tr>\n",
       "    <tr>\n",
       "      <th>24</th>\n",
       "      <td>Flight Booking Problems</td>\n",
       "      <td>United</td>\n",
       "      <td>144</td>\n",
       "    </tr>\n",
       "    <tr>\n",
       "      <th>25</th>\n",
       "      <td>Flight Booking Problems</td>\n",
       "      <td>American</td>\n",
       "      <td>130</td>\n",
       "    </tr>\n",
       "    <tr>\n",
       "      <th>26</th>\n",
       "      <td>Flight Attendant Complaints</td>\n",
       "      <td>US Airways</td>\n",
       "      <td>123</td>\n",
       "    </tr>\n",
       "    <tr>\n",
       "      <th>27</th>\n",
       "      <td>Flight Booking Problems</td>\n",
       "      <td>US Airways</td>\n",
       "      <td>122</td>\n",
       "    </tr>\n",
       "    <tr>\n",
       "      <th>28</th>\n",
       "      <td>Bad Flight</td>\n",
       "      <td>US Airways</td>\n",
       "      <td>104</td>\n",
       "    </tr>\n",
       "    <tr>\n",
       "      <th>29</th>\n",
       "      <td>Lost Luggage</td>\n",
       "      <td>Southwest</td>\n",
       "      <td>90</td>\n",
       "    </tr>\n",
       "    <tr>\n",
       "      <th>30</th>\n",
       "      <td>Bad Flight</td>\n",
       "      <td>Southwest</td>\n",
       "      <td>90</td>\n",
       "    </tr>\n",
       "    <tr>\n",
       "      <th>31</th>\n",
       "      <td>Bad Flight</td>\n",
       "      <td>American</td>\n",
       "      <td>87</td>\n",
       "    </tr>\n",
       "    <tr>\n",
       "      <th>32</th>\n",
       "      <td>Flight Attendant Complaints</td>\n",
       "      <td>American</td>\n",
       "      <td>87</td>\n",
       "    </tr>\n",
       "    <tr>\n",
       "      <th>33</th>\n",
       "      <td>Bad Flight</td>\n",
       "      <td>Delta</td>\n",
       "      <td>64</td>\n",
       "    </tr>\n",
       "    <tr>\n",
       "      <th>34</th>\n",
       "      <td>Flight Booking Problems</td>\n",
       "      <td>Southwest</td>\n",
       "      <td>61</td>\n",
       "    </tr>\n",
       "    <tr>\n",
       "      <th>35</th>\n",
       "      <td>Customer Service Issue</td>\n",
       "      <td>Virgin America</td>\n",
       "      <td>60</td>\n",
       "    </tr>\n",
       "    <tr>\n",
       "      <th>36</th>\n",
       "      <td>Flight Attendant Complaints</td>\n",
       "      <td>Delta</td>\n",
       "      <td>60</td>\n",
       "    </tr>\n",
       "    <tr>\n",
       "      <th>37</th>\n",
       "      <td>Lost Luggage</td>\n",
       "      <td>Delta</td>\n",
       "      <td>57</td>\n",
       "    </tr>\n",
       "    <tr>\n",
       "      <th>38</th>\n",
       "      <td>Cancelled Flight</td>\n",
       "      <td>Delta</td>\n",
       "      <td>51</td>\n",
       "    </tr>\n",
       "    <tr>\n",
       "      <th>39</th>\n",
       "      <td>Long Lines</td>\n",
       "      <td>US Airways</td>\n",
       "      <td>50</td>\n",
       "    </tr>\n",
       "    <tr>\n",
       "      <th>40</th>\n",
       "      <td>Long Lines</td>\n",
       "      <td>United</td>\n",
       "      <td>48</td>\n",
       "    </tr>\n",
       "    <tr>\n",
       "      <th>41</th>\n",
       "      <td>Flight Booking Problems</td>\n",
       "      <td>Delta</td>\n",
       "      <td>44</td>\n",
       "    </tr>\n",
       "    <tr>\n",
       "      <th>42</th>\n",
       "      <td>Flight Attendant Complaints</td>\n",
       "      <td>Southwest</td>\n",
       "      <td>38</td>\n",
       "    </tr>\n",
       "    <tr>\n",
       "      <th>43</th>\n",
       "      <td>Long Lines</td>\n",
       "      <td>American</td>\n",
       "      <td>34</td>\n",
       "    </tr>\n",
       "    <tr>\n",
       "      <th>44</th>\n",
       "      <td>Long Lines</td>\n",
       "      <td>Southwest</td>\n",
       "      <td>29</td>\n",
       "    </tr>\n",
       "    <tr>\n",
       "      <th>45</th>\n",
       "      <td>Flight Booking Problems</td>\n",
       "      <td>Virgin America</td>\n",
       "      <td>28</td>\n",
       "    </tr>\n",
       "    <tr>\n",
       "      <th>46</th>\n",
       "      <td>Can't Tell</td>\n",
       "      <td>Virgin America</td>\n",
       "      <td>22</td>\n",
       "    </tr>\n",
       "    <tr>\n",
       "      <th>47</th>\n",
       "      <td>Damaged Luggage</td>\n",
       "      <td>United</td>\n",
       "      <td>22</td>\n",
       "    </tr>\n",
       "    <tr>\n",
       "      <th>48</th>\n",
       "      <td>Bad Flight</td>\n",
       "      <td>Virgin America</td>\n",
       "      <td>19</td>\n",
       "    </tr>\n",
       "    <tr>\n",
       "      <th>49</th>\n",
       "      <td>Cancelled Flight</td>\n",
       "      <td>Virgin America</td>\n",
       "      <td>18</td>\n",
       "    </tr>\n",
       "    <tr>\n",
       "      <th>50</th>\n",
       "      <td>Late Flight</td>\n",
       "      <td>Virgin America</td>\n",
       "      <td>17</td>\n",
       "    </tr>\n",
       "    <tr>\n",
       "      <th>51</th>\n",
       "      <td>Long Lines</td>\n",
       "      <td>Delta</td>\n",
       "      <td>14</td>\n",
       "    </tr>\n",
       "    <tr>\n",
       "      <th>52</th>\n",
       "      <td>Damaged Luggage</td>\n",
       "      <td>Southwest</td>\n",
       "      <td>14</td>\n",
       "    </tr>\n",
       "    <tr>\n",
       "      <th>53</th>\n",
       "      <td>Damaged Luggage</td>\n",
       "      <td>American</td>\n",
       "      <td>12</td>\n",
       "    </tr>\n",
       "    <tr>\n",
       "      <th>54</th>\n",
       "      <td>Damaged Luggage</td>\n",
       "      <td>Delta</td>\n",
       "      <td>11</td>\n",
       "    </tr>\n",
       "    <tr>\n",
       "      <th>55</th>\n",
       "      <td>Damaged Luggage</td>\n",
       "      <td>US Airways</td>\n",
       "      <td>11</td>\n",
       "    </tr>\n",
       "    <tr>\n",
       "      <th>56</th>\n",
       "      <td>Lost Luggage</td>\n",
       "      <td>Virgin America</td>\n",
       "      <td>5</td>\n",
       "    </tr>\n",
       "    <tr>\n",
       "      <th>57</th>\n",
       "      <td>Flight Attendant Complaints</td>\n",
       "      <td>Virgin America</td>\n",
       "      <td>5</td>\n",
       "    </tr>\n",
       "    <tr>\n",
       "      <th>58</th>\n",
       "      <td>Damaged Luggage</td>\n",
       "      <td>Virgin America</td>\n",
       "      <td>4</td>\n",
       "    </tr>\n",
       "    <tr>\n",
       "      <th>59</th>\n",
       "      <td>Long Lines</td>\n",
       "      <td>Virgin America</td>\n",
       "      <td>3</td>\n",
       "    </tr>\n",
       "  </tbody>\n",
       "</table>\n",
       "</div>"
      ],
      "text/plain": [
       "                 negativereason         airline  tweet_id\n",
       "0        Customer Service Issue      US Airways       811\n",
       "1        Customer Service Issue        American       768\n",
       "2        Customer Service Issue          United       681\n",
       "3                   Late Flight          United       525\n",
       "4                   Late Flight      US Airways       453\n",
       "5        Customer Service Issue       Southwest       391\n",
       "6                    Can't Tell          United       379\n",
       "7                   Late Flight           Delta       269\n",
       "8                  Lost Luggage          United       269\n",
       "9                   Late Flight        American       249\n",
       "10                   Can't Tell      US Airways       246\n",
       "11             Cancelled Flight        American       246\n",
       "12                   Bad Flight          United       216\n",
       "13       Customer Service Issue           Delta       199\n",
       "14                   Can't Tell        American       198\n",
       "15             Cancelled Flight      US Airways       189\n",
       "16                   Can't Tell           Delta       186\n",
       "17             Cancelled Flight          United       181\n",
       "18  Flight Attendant Complaints          United       168\n",
       "19             Cancelled Flight       Southwest       162\n",
       "20                   Can't Tell       Southwest       159\n",
       "21                 Lost Luggage      US Airways       154\n",
       "22                  Late Flight       Southwest       152\n",
       "23                 Lost Luggage        American       149\n",
       "24      Flight Booking Problems          United       144\n",
       "25      Flight Booking Problems        American       130\n",
       "26  Flight Attendant Complaints      US Airways       123\n",
       "27      Flight Booking Problems      US Airways       122\n",
       "28                   Bad Flight      US Airways       104\n",
       "29                 Lost Luggage       Southwest        90\n",
       "30                   Bad Flight       Southwest        90\n",
       "31                   Bad Flight        American        87\n",
       "32  Flight Attendant Complaints        American        87\n",
       "33                   Bad Flight           Delta        64\n",
       "34      Flight Booking Problems       Southwest        61\n",
       "35       Customer Service Issue  Virgin America        60\n",
       "36  Flight Attendant Complaints           Delta        60\n",
       "37                 Lost Luggage           Delta        57\n",
       "38             Cancelled Flight           Delta        51\n",
       "39                   Long Lines      US Airways        50\n",
       "40                   Long Lines          United        48\n",
       "41      Flight Booking Problems           Delta        44\n",
       "42  Flight Attendant Complaints       Southwest        38\n",
       "43                   Long Lines        American        34\n",
       "44                   Long Lines       Southwest        29\n",
       "45      Flight Booking Problems  Virgin America        28\n",
       "46                   Can't Tell  Virgin America        22\n",
       "47              Damaged Luggage          United        22\n",
       "48                   Bad Flight  Virgin America        19\n",
       "49             Cancelled Flight  Virgin America        18\n",
       "50                  Late Flight  Virgin America        17\n",
       "51                   Long Lines           Delta        14\n",
       "52              Damaged Luggage       Southwest        14\n",
       "53              Damaged Luggage        American        12\n",
       "54              Damaged Luggage           Delta        11\n",
       "55              Damaged Luggage      US Airways        11\n",
       "56                 Lost Luggage  Virgin America         5\n",
       "57  Flight Attendant Complaints  Virgin America         5\n",
       "58              Damaged Luggage  Virgin America         4\n",
       "59                   Long Lines  Virgin America         3"
      ]
     },
     "execution_count": 47,
     "metadata": {},
     "output_type": "execute_result"
    }
   ],
   "source": [
    "neg_data"
   ]
  },
  {
   "cell_type": "code",
   "execution_count": 48,
   "metadata": {},
   "outputs": [
    {
     "data": {
      "image/png": "[encoded data removed]",
      "text/plain": [
       "<Figure size 1080x648 with 1 Axes>"
      ]
     },
     "metadata": {
      "needs_background": "light"
     },
     "output_type": "display_data"
    }
   ],
   "source": [
    "# Create bar graph of negative reasons\n",
    "plt.figure(figsize = (15, 9))\n",
    "sns.barplot(x = 'negativereason', y = 'tweet_id', hue = 'airline', data = neg_data)\n",
    "plt.ylabel('Tweet Count')\n",
    "plt.title('Most Frequent Negative Reasons for Tweets')\n",
    "plt.xlabel('Reason')\n",
    "plt.xticks(rotation = 45, ha = 'right')\n",
    "plt.show()"
   ]
  },
  {
   "cell_type": "markdown",
   "metadata": {},
   "source": [
    "# Text Analysis"
   ]
  },
  {
   "cell_type": "code",
   "execution_count": 57,
   "metadata": {},
   "outputs": [
    {
     "name": "stdout",
     "output_type": "stream",
     "text": [
      "neutral\n",
      "@VirginAmerica What @dhepburn said.\n"
     ]
    }
   ],
   "source": [
    "# Seperate data into labels and text\n",
    "y = raw_data['airline_sentiment']\n",
    "X = raw_data['text']\n",
    "# Inspect data\n",
    "print(y[0])\n",
    "print(X[0])"
   ]
  },
  {
   "cell_type": "code",
   "execution_count": 58,
   "metadata": {},
   "outputs": [],
   "source": [
    "# Split train/test data for hold-out test\n",
    "X_train, X_test, y_train, y_test = train_test_split(X, y, test_size=0.4, random_state=0) "
   ]
  },
  {
   "cell_type": "code",
   "execution_count": 62,
   "metadata": {},
   "outputs": [
    {
     "data": {
      "text/plain": [
       "13983    negative\n",
       "14484    negative\n",
       "6403     negative\n",
       "9653     negative\n",
       "13268    negative\n",
       "           ...   \n",
       "5429     negative\n",
       "8113      neutral\n",
       "4512     negative\n",
       "6759     positive\n",
       "7119     negative\n",
       "Name: airline_sentiment, Length: 5856, dtype: object"
      ]
     },
     "execution_count": 62,
     "metadata": {},
     "output_type": "execute_result"
    }
   ],
   "source": [
    "# Inspect data\n",
    "X_test\n",
    "y_test"
   ]
  },
  {
   "cell_type": "code",
   "execution_count": 63,
   "metadata": {},
   "outputs": [
    {
     "name": "stdout",
     "output_type": "stream",
     "text": [
      "@VirginAmerica What @dhepburn said.\n",
      "neutral\n",
      "@AmericanAir In car gng to DFW. Pulled over 1hr ago - very icy roads. On-hold with AA since 1hr. Can't reach arpt for AA2450. Wat 2 do?\n",
      "negative\n"
     ]
    }
   ],
   "source": [
    "# Inspect data\n",
    "print(X_train[0])\n",
    "print(y_train[0])\n",
    "print(X_test[13983])\n",
    "print(y_test[13983])"
   ]
  },
  {
   "cell_type": "code",
   "execution_count": 64,
   "metadata": {},
   "outputs": [
    {
     "name": "stdout",
     "output_type": "stream",
     "text": [
      "[['negative' 'neutral' 'positive']\n",
      " [5499 1847 1438]]\n"
     ]
    }
   ],
   "source": [
    "# Check the training examples for each sentiment\n",
    "unique, counts = np.unique(y_train, return_counts=True)\n",
    "print(np.asarray((unique, counts)))"
   ]
  },
  {
   "cell_type": "code",
   "execution_count": 66,
   "metadata": {},
   "outputs": [],
   "source": [
    "# CountVectorizer\n",
    "\n",
    "# MNB\n",
    "unigram_count_vectorizer = CountVectorizer(encoding='latin-1', binary=False, min_df = 5, stop_words='english')\n",
    "\n",
    "# Bernoulli\n",
    "unigram_bool_vectorizer = CountVectorizer(encoding='latin-1', binary=True, min_df = 5, stop_words='english')\n",
    "\n",
    "# tfidf\n",
    "unigram_tfidf_vectorizer = TfidfVectorizer(encoding='latin-1', use_idf=True, min_df = 5, stop_words='english')"
   ]
  },
  {
   "cell_type": "code",
   "execution_count": 67,
   "metadata": {},
   "outputs": [],
   "source": [
    "# Fit vocabulary in training documents and transform the training documents into vectors\n",
    "\n",
    "# MNB\n",
    "X_train_vec = unigram_count_vectorizer.fit_transform(X_train)\n",
    "\n",
    "# Bernoulli\n",
    "X_train_vecB = unigram_bool_vectorizer.fit_transform(X_train)\n",
    "\n",
    "# tfifd\n",
    "X_train_vect = unigram_tfidf_vectorizer.fit_transform(X_train)"
   ]
  },
  {
   "cell_type": "code",
   "execution_count": 68,
   "metadata": {},
   "outputs": [],
   "source": [
    "# Vectorize the test data\n",
    "\n",
    "# MNB\n",
    "X_test_vec = unigram_count_vectorizer.transform(X_test)\n",
    "\n",
    "# Bernoulli\n",
    "X_test_vecB = unigram_bool_vectorizer.transform(X_test)\n",
    "\n",
    "# tfidf\n",
    "X_test_vect = unigram_tfidf_vectorizer.transform(X_test)"
   ]
  },
  {
   "cell_type": "markdown",
   "metadata": {},
   "source": [
    "## Naive Bayes"
   ]
  },
  {
   "cell_type": "code",
   "execution_count": 70,
   "metadata": {},
   "outputs": [],
   "source": [
    "# Train classifiers\n",
    "\n",
    "nb_clf = MultinomialNB()\n",
    "b_clf = BernoulliNB()"
   ]
  },
  {
   "cell_type": "code",
   "execution_count": 71,
   "metadata": {},
   "outputs": [
    {
     "data": {
      "text/plain": [
       "MultinomialNB()"
      ]
     },
     "execution_count": 71,
     "metadata": {},
     "output_type": "execute_result"
    }
   ],
   "source": [
    "# Use the training data to train the models\n",
    "\n",
    "# MNB\n",
    "nb_clf.fit(X_train_vec,y_train)\n",
    "\n",
    "# Bernoulli\n",
    "b_clf.fit(X_train_vecB, y_train)\n",
    "\n",
    "# tfidf\n",
    "nb_clf.fit(X_train_vect, y_train)"
   ]
  },
  {
   "cell_type": "code",
   "execution_count": 72,
   "metadata": {},
   "outputs": [
    {
     "name": "stdout",
     "output_type": "stream",
     "text": [
      "Multinomial Naive Bayes Accuracy Score is:  0.7638319672131147\n",
      "Bernoulli Naive Bayes Accuracy Score is:  0.7682718579234973\n",
      "Multinomial TFIDF Naive Bayes Accuracy Score is:  0.7404371584699454\n"
     ]
    }
   ],
   "source": [
    "# Test the classifier on the test data set, print accuracy score\n",
    "print('Multinomial Naive Bayes Accuracy Score is: ',nb_clf.score(X_test_vec,y_test))\n",
    "print('Bernoulli Naive Bayes Accuracy Score is: ',b_clf.score(X_test_vecB,y_test))\n",
    "print('Multinomial TFIDF Naive Bayes Accuracy Score is: ',nb_clf.score(X_test_vect,y_test))"
   ]
  },
  {
   "cell_type": "code",
   "execution_count": 74,
   "metadata": {},
   "outputs": [
    {
     "name": "stdout",
     "output_type": "stream",
     "text": [
      "The Multinomial Naive Bayes Confusion Matrix is:\n",
      "  [[ 611  105  209]\n",
      " [ 128  631  493]\n",
      " [ 133  331 3215]]\n",
      "The Bernoulli Naive Bayes Confusion Matrix is: \n",
      "  [[ 627  145  153]\n",
      " [ 130  737  385]\n",
      " [ 141  403 3135]]\n",
      "The Multinomial Naive Bayes TFIDF Confusion Matrix is:\n",
      "  [[ 392   68  465]\n",
      " [  55  367  830]\n",
      " [  23   79 3577]]\n"
     ]
    }
   ],
   "source": [
    "# Confusion Matrices\n",
    "\n",
    "# MNB\n",
    "y_predMNB = nb_clf.fit(X_train_vec, y_train).predict(X_test_vec)\n",
    "cmMNB = confusion_matrix(y_test,y_predMNB, labels = ['positive', 'neutral', 'negative'])\n",
    "print('The Multinomial Naive Bayes Confusion Matrix is:\\n ', cmMNB)\n",
    "\n",
    "# Bernoulli\n",
    "y_predB = b_clf.fit(X_train_vecB, y_train).predict(X_test_vecB)\n",
    "cmB = confusion_matrix(y_test,y_predB, labels = ['positive', 'neutral', 'negative'])\n",
    "print('The Bernoulli Naive Bayes Confusion Matrix is: \\n ', cmB)\n",
    "\n",
    "# tfidf\n",
    "y_predT = nb_clf.fit(X_train_vect, y_train).predict(X_test_vect)\n",
    "cmT = confusion_matrix(y_test,y_predT, labels = ['positive', 'neutral', 'negative'])\n",
    "print('The Multinomial Naive Bayes TFIDF Confusion Matrix is:\\n ', cmT)"
   ]
  },
  {
   "cell_type": "code",
   "execution_count": 76,
   "metadata": {},
   "outputs": [
    {
     "name": "stdout",
     "output_type": "stream",
     "text": [
      "The Multinomial Naive Bayes Classification Report is: \n",
      "               precision    recall  f1-score   support\n",
      "\n",
      "    positive       0.82      0.87      0.85      3679\n",
      "     neutral       0.59      0.50      0.54      1252\n",
      "    negative       0.70      0.66      0.68       925\n",
      "\n",
      "    accuracy                           0.76      5856\n",
      "   macro avg       0.70      0.68      0.69      5856\n",
      "weighted avg       0.75      0.76      0.76      5856\n",
      "\n",
      "The Bernoulli Naive Bayes Classification Report is: \n",
      "               precision    recall  f1-score   support\n",
      "\n",
      "    positive       0.85      0.85      0.85      3679\n",
      "     neutral       0.57      0.59      0.58      1252\n",
      "    negative       0.70      0.68      0.69       925\n",
      "\n",
      "    accuracy                           0.77      5856\n",
      "   macro avg       0.71      0.71      0.71      5856\n",
      "weighted avg       0.77      0.77      0.77      5856\n",
      "\n",
      "The Multinomial Naive Bayes TFIDF Classification Report is: \n",
      "               precision    recall  f1-score   support\n",
      "\n",
      "    positive       0.73      0.97      0.84      3679\n",
      "     neutral       0.71      0.29      0.42      1252\n",
      "    negative       0.83      0.42      0.56       925\n",
      "\n",
      "    accuracy                           0.74      5856\n",
      "   macro avg       0.76      0.56      0.60      5856\n",
      "weighted avg       0.75      0.74      0.70      5856\n",
      "\n"
     ]
    }
   ],
   "source": [
    "# Classification Reports\n",
    "\n",
    "# MNB\n",
    "target_names = ['positive', 'neutral', 'negative']\n",
    "print('The Multinomial Naive Bayes Classification Report is: \\n', classification_report(y_test, y_predMNB, target_names = target_names))\n",
    "\n",
    "# Bernoulli\n",
    "print('The Bernoulli Naive Bayes Classification Report is: \\n', classification_report(y_test, y_predB, target_names = target_names))\n",
    "\n",
    "# tfidf\n",
    "print('The Multinomial Naive Bayes TFIDF Classification Report is: \\n', classification_report(y_test, y_predT, target_names = target_names))"
   ]
  },
  {
   "cell_type": "markdown",
   "metadata": {},
   "source": [
    "## Support Vectors"
   ]
  },
  {
   "cell_type": "code",
   "execution_count": 81,
   "metadata": {},
   "outputs": [],
   "source": [
    "# Initialize the LinearSVC model\n",
    "\n",
    "# linear C=1\n",
    "svm_clf = LinearSVC(C=1)\n",
    "# linear C=10\n",
    "svm_clf10 = LinearSVC(C=10)\n",
    "# rbf C=1\n",
    "svm_clfR1 = sklearn.svm.SVC(C=1, kernel = 'rbf', verbose = True, gamma = 'auto')\n",
    "# rbf C=10\n",
    "svm_clfR10 = sklearn.svm.SVC(C=10, kernel = 'rbf', verbose = True, gamma = 'auto')\n",
    "# poly C=1\n",
    "svm_clfP1 = sklearn.svm.SVC(C=1, kernel = 'poly', degree = 2, gamma = 'auto')\n",
    "# poly C=10\n",
    "svm_clfP10 = sklearn.svm.SVC(C=10, kernel = 'poly', degree = 2, gamma = 'auto')"
   ]
  },
  {
   "cell_type": "code",
   "execution_count": 82,
   "metadata": {},
   "outputs": [
    {
     "name": "stderr",
     "output_type": "stream",
     "text": [
      "/Users/teresacameron/opt/anaconda3/lib/python3.7/site-packages/sklearn/svm/_base.py:977: ConvergenceWarning: Liblinear failed to converge, increase the number of iterations.\n",
      "  \"the number of iterations.\", ConvergenceWarning)\n"
     ]
    },
    {
     "name": "stdout",
     "output_type": "stream",
     "text": [
      "[LibSVM][LibSVM][LibSVM][LibSVM]"
     ]
    },
    {
     "data": {
      "text/plain": [
       "SVC(C=10, degree=2, gamma='auto', kernel='poly')"
      ]
     },
     "execution_count": 82,
     "metadata": {},
     "output_type": "execute_result"
    }
   ],
   "source": [
    "# Use training data to train model\n",
    "\n",
    "# linear C=1\n",
    "svm_clf.fit(X_train_vec, y_train)\n",
    "# Linear TFIDF C=1\n",
    "svm_clf.fit(X_train_vect, y_train)\n",
    "# linear C=10\n",
    "svm_clf10.fit(X_train_vec, y_train)\n",
    "# linear TFIDF C=10\n",
    "svm_clf10.fit(X_train_vect, y_train)\n",
    "# rbf C=1\n",
    "svm_clfR1.fit(X_train_vec, y_train)\n",
    "# rbf TFIDF C=1\n",
    "svm_clfR1.fit(X_train_vect, y_train)\n",
    "# rbf C=10\n",
    "svm_clfR10.fit(X_train_vec, y_train)\n",
    "# rbf TFIDF C=10\n",
    "svm_clfR10.fit(X_train_vect, y_train)\n",
    "# poly C=1\n",
    "svm_clfP1.fit(X_train_vec, y_train)\n",
    "# poly TFIDF C=1\n",
    "svm_clfP1.fit(X_train_vect, y_train)\n",
    "# poly C=10\n",
    "svm_clfP10.fit(X_train_vec, y_train)\n",
    "# poly TFIDF C=10\n",
    "svm_clfP10.fit(X_train_vect, y_train)"
   ]
  },
  {
   "cell_type": "code",
   "execution_count": 83,
   "metadata": {},
   "outputs": [
    {
     "name": "stdout",
     "output_type": "stream",
     "text": [
      "Support Vector Accuracy Score with C=1 is:  0.7474385245901639\n",
      "Support Vector Accuracy Score with C=1 TFIDF:  0.7703210382513661\n",
      "Support Vector Accuracy Score with C=10 is:  0.7317281420765027\n",
      "Support Vector Accuracy Score with C=10 TFIDF is:  0.7402663934426229\n",
      "Support Vector Accuracy Score with C=1 RBF is:  0.6282445355191257\n",
      "Support Vector Accuracy Score with C=1 RBF TFIDF is:  0.6282445355191257\n",
      "Support Vector Accuracy Score with C=10 RBF is:  0.6644467213114754\n",
      "Support Vector Accuracy Score with C=10 RBF TFIDF is:  0.6282445355191257\n",
      "Support Vector Accuracy Score with C=1 Poly is:  0.6282445355191257\n",
      "Support Vector Accuracy Score with C=1 Poly TFIDF is:  0.6282445355191257\n",
      "Support Vector Accuracy Score with C=10 Poly is:  0.6282445355191257\n",
      "Support Vector Accuracy Score with C=10 Poly TFIDF is:  0.6282445355191257\n"
     ]
    }
   ],
   "source": [
    "# Use testing data to test model\n",
    "\n",
    "# linear C=1\n",
    "print('Support Vector Accuracy Score with C=1 is: ',svm_clf.score(X_test_vec, y_test))\n",
    "# linear C=1 TFIDF\n",
    "print('Support Vector Accuracy Score with C=1 TFIDF: ', svm_clf.score(X_test_vect, y_test))\n",
    "# linear C=10\n",
    "print('Support Vector Accuracy Score with C=10 is: ',svm_clf10.score(X_test_vec, y_test))\n",
    "# linear TFIDF C=10\n",
    "print('Support Vector Accuracy Score with C=10 TFIDF is: ', svm_clf10.score(X_test_vect, y_test))\n",
    "# rbf C=1\n",
    "print('Support Vector Accuracy Score with C=1 RBF is: ', svm_clfR1.score(X_test_vec, y_test))\n",
    "# rbf C=1 TFIDF\n",
    "print('Support Vector Accuracy Score with C=1 RBF TFIDF is: ', svm_clfR1.score(X_test_vect, y_test))\n",
    "# rbf C=10\n",
    "print('Support Vector Accuracy Score with C=10 RBF is: ',svm_clfR10.score(X_test_vec, y_test))\n",
    "# rbf C=10 TFIDF\n",
    "print('Support Vector Accuracy Score with C=10 RBF TFIDF is: ',svm_clfR10.score(X_test_vect, y_test))\n",
    "# poly C=1\n",
    "print('Support Vector Accuracy Score with C=1 Poly is: ', svm_clfP1.score(X_test_vec, y_test))\n",
    "# poly C=1 TFIDF\n",
    "print('Support Vector Accuracy Score with C=1 Poly TFIDF is: ', svm_clfP1.score(X_test_vect, y_test))\n",
    "# poly C=10\n",
    "print('Support Vector Accuracy Score with C=10 Poly is: ', svm_clfP10.score(X_test_vec, y_test))\n",
    "# poly C=10 TFIDF\n",
    "print('Support Vector Accuracy Score with C=10 Poly TFIDF is: ', svm_clfP10.score(X_test_vect, y_test))"
   ]
  },
  {
   "cell_type": "code",
   "execution_count": 84,
   "metadata": {},
   "outputs": [
    {
     "name": "stdout",
     "output_type": "stream",
     "text": [
      "The Support Vector with C=1 Confusion Matrix is: \n",
      " [[ 733   93   99]\n",
      " [ 222  684  346]\n",
      " [ 324  395 2960]]\n",
      "The Support Vector with C=1 TFIDF Confusion Matrix is: \n",
      " [[ 576  134  215]\n",
      " [ 116  658  478]\n",
      " [  79  323 3277]]\n",
      "The Support Vector with C=1 RBF Confusion Matrix is: \n",
      " [[   0    0  925]\n",
      " [   0    0 1252]\n",
      " [   0    0 3679]]\n",
      "The Support Vector with C=10 RBF Confusion Matrix is: \n",
      " [[ 234    1  690]\n",
      " [  28    2 1222]\n",
      " [  24    0 3655]]\n",
      "The Support Vector with C=1 Poly Confusion Matrix is: \n",
      " [[   0    0  925]\n",
      " [   0    0 1252]\n",
      " [   0    0 3679]]\n"
     ]
    }
   ],
   "source": [
    "# Confusion Matrices\n",
    "\n",
    "# linear C=1\n",
    "y_predSV = svm_clf.predict(X_test_vec)\n",
    "cmSV = confusion_matrix(y_test, y_predSV, labels=['positive','neutral', 'negative'])\n",
    "print('The Support Vector with C=1 Confusion Matrix is: \\n', cmSV)\n",
    "# linear C=1 TFIDF\n",
    "y_predSVT = svm_clf.predict(X_test_vect)\n",
    "cmSVT = confusion_matrix(y_test, y_predSVT, labels=['positive','neutral', 'negative'])\n",
    "print('The Support Vector with C=1 TFIDF Confusion Matrix is: \\n', cmSVT)\n",
    "# rbf C=1\n",
    "y_predSVR = svm_clfR1.predict(X_test_vec)\n",
    "cmSVR = confusion_matrix(y_test, y_predSVR, labels=['positive','neutral', 'negative'])\n",
    "print('The Support Vector with C=1 RBF Confusion Matrix is: \\n', cmSVR)\n",
    "# rbf C=10\n",
    "y_predSVR10 = svm_clfR10.predict(X_test_vec)\n",
    "cmSVR10 = confusion_matrix(y_test, y_predSVR10, labels=['positive','neutral', 'negative'])\n",
    "print('The Support Vector with C=10 RBF Confusion Matrix is: \\n', cmSVR10)\n",
    "# Poly C=1\n",
    "y_predSVP = svm_clfP1.predict(X_test_vec)\n",
    "cmSVP = confusion_matrix(y_test, y_predSVP, labels = ['positive', 'neutral', 'negative'])\n",
    "print('The Support Vector with C=1 Poly Confusion Matrix is: \\n', cmSVP)"
   ]
  },
  {
   "cell_type": "code",
   "execution_count": 85,
   "metadata": {},
   "outputs": [
    {
     "name": "stdout",
     "output_type": "stream",
     "text": [
      "The Support Vector C=1 Classification Report is: \n",
      "               precision    recall  f1-score   support\n",
      "\n",
      "    positive       0.87      0.80      0.84      3679\n",
      "     neutral       0.58      0.55      0.56      1252\n",
      "    negative       0.57      0.79      0.67       925\n",
      "\n",
      "    accuracy                           0.75      5856\n",
      "   macro avg       0.68      0.71      0.69      5856\n",
      "weighted avg       0.76      0.75      0.75      5856\n",
      "\n",
      "The Support Vector C=1 TFIDF Classification Report is: \n",
      "               precision    recall  f1-score   support\n",
      "\n",
      "    positive       0.83      0.89      0.86      3679\n",
      "     neutral       0.59      0.53      0.56      1252\n",
      "    negative       0.75      0.62      0.68       925\n",
      "\n",
      "    accuracy                           0.77      5856\n",
      "   macro avg       0.72      0.68      0.70      5856\n",
      "weighted avg       0.76      0.77      0.76      5856\n",
      "\n",
      "The Support Vector C=10 RBF Classification Report is: \n",
      "               precision    recall  f1-score   support\n",
      "\n",
      "    positive       0.66      0.99      0.79      3679\n",
      "     neutral       0.67      0.00      0.00      1252\n",
      "    negative       0.82      0.25      0.39       925\n",
      "\n",
      "    accuracy                           0.66      5856\n",
      "   macro avg       0.71      0.42      0.39      5856\n",
      "weighted avg       0.68      0.66      0.56      5856\n",
      "\n",
      "The Support Vector C=1 Poly Classification Report is: \n",
      "               precision    recall  f1-score   support\n",
      "\n",
      "    positive       0.63      1.00      0.77      3679\n",
      "     neutral       0.00      0.00      0.00      1252\n",
      "    negative       0.00      0.00      0.00       925\n",
      "\n",
      "    accuracy                           0.63      5856\n",
      "   macro avg       0.21      0.33      0.26      5856\n",
      "weighted avg       0.39      0.63      0.48      5856\n",
      "\n"
     ]
    },
    {
     "name": "stderr",
     "output_type": "stream",
     "text": [
      "/Users/teresacameron/opt/anaconda3/lib/python3.7/site-packages/sklearn/metrics/_classification.py:1221: UndefinedMetricWarning: Precision and F-score are ill-defined and being set to 0.0 in labels with no predicted samples. Use `zero_division` parameter to control this behavior.\n",
      "  _warn_prf(average, modifier, msg_start, len(result))\n"
     ]
    }
   ],
   "source": [
    "# Classification Reports\n",
    "\n",
    "# linear C=1\n",
    "print('The Support Vector C=1 Classification Report is: \\n', classification_report(y_test, y_predSV, target_names = target_names))\n",
    "# linear C=1 TFIDF\n",
    "print('The Support Vector C=1 TFIDF Classification Report is: \\n', classification_report(y_test, y_predSVT, target_names = target_names))\n",
    "# rbf C=10\n",
    "print('The Support Vector C=10 RBF Classification Report is: \\n', classification_report(y_test, y_predSVR10, target_names = target_names))\n",
    "# poly C=1\n",
    "print('The Support Vector C=1 Poly Classification Report is: \\n', classification_report(y_test, y_predSVP, target_names = target_names))"
   ]
  },
  {
   "cell_type": "code",
   "execution_count": 89,
   "metadata": {},
   "outputs": [
    {
     "name": "stderr",
     "output_type": "stream",
     "text": [
      "/Users/teresacameron/opt/anaconda3/lib/python3.7/site-packages/sklearn/base.py:213: FutureWarning: From version 0.24, get_params will raise an AttributeError if a parameter cannot be retrieved as an instance attribute. Previously it would return None.\n",
      "  FutureWarning)\n"
     ]
    },
    {
     "data": {
      "image/png": "[encoded data removed]",
      "text/plain": [
       "<Figure size 576x396 with 1 Axes>"
      ]
     },
     "metadata": {},
     "output_type": "display_data"
    },
    {
     "name": "stderr",
     "output_type": "stream",
     "text": [
      "/Users/teresacameron/opt/anaconda3/lib/python3.7/site-packages/sklearn/base.py:213: FutureWarning: From version 0.24, get_params will raise an AttributeError if a parameter cannot be retrieved as an instance attribute. Previously it would return None.\n",
      "  FutureWarning)\n"
     ]
    },
    {
     "data": {
      "image/png": "[encoded data removed]",
      "text/plain": [
       "<Figure size 576x396 with 1 Axes>"
      ]
     },
     "metadata": {},
     "output_type": "display_data"
    },
    {
     "name": "stderr",
     "output_type": "stream",
     "text": [
      "/Users/teresacameron/opt/anaconda3/lib/python3.7/site-packages/sklearn/base.py:213: FutureWarning: From version 0.24, get_params will raise an AttributeError if a parameter cannot be retrieved as an instance attribute. Previously it would return None.\n",
      "  FutureWarning)\n"
     ]
    },
    {
     "data": {
      "image/png": "[encoded data removed]",
      "text/plain": [
       "<Figure size 576x396 with 1 Axes>"
      ]
     },
     "metadata": {},
     "output_type": "display_data"
    },
    {
     "name": "stderr",
     "output_type": "stream",
     "text": [
      "/Users/teresacameron/opt/anaconda3/lib/python3.7/site-packages/sklearn/base.py:213: FutureWarning: From version 0.24, get_params will raise an AttributeError if a parameter cannot be retrieved as an instance attribute. Previously it would return None.\n",
      "  FutureWarning)\n"
     ]
    },
    {
     "name": "stdout",
     "output_type": "stream",
     "text": [
      "The Support Vector with C=1 Confusion Matrix\n"
     ]
    },
    {
     "data": {
      "image/png": "[encoded data removed]",
      "text/plain": [
       "<Figure size 576x396 with 1 Axes>"
      ]
     },
     "metadata": {},
     "output_type": "display_data"
    },
    {
     "data": {
      "text/plain": [
       "<AxesSubplot:title={'center':'LinearSVC Confusion Matrix'}, xlabel='Predicted Class', ylabel='True Class'>"
      ]
     },
     "execution_count": 89,
     "metadata": {},
     "output_type": "execute_result"
    }
   ],
   "source": [
    "# Yellowbrick confusion matrix\n",
    "\n",
    "# Naive Bayes\n",
    "classes = ('negative', 'neutral', 'positive')\n",
    "nb_cm = ConfusionMatrix(nb_clf, classes=classes)\n",
    "\n",
    "nb_cm.fit(X_train_vec, y_train)\n",
    "nb_cm.score(X_test_vec, y_test)\n",
    "nb_cm.show()\n",
    "\n",
    "# Bernoulli\n",
    "nbB_cm = ConfusionMatrix(b_clf, classes=classes)\n",
    "nbB_cm.fit(X_train_vecB, y_train)\n",
    "nbB_cm.score(X_test_vecB, y_test)\n",
    "nbB_cm.show()\n",
    "\n",
    "# TFIDF\n",
    "nbt_cm = ConfusionMatrix(nb_clf, classes=classes)\n",
    "nbt_cm.fit(X_train_vect, y_train)\n",
    "nbt_cm.score(X_test_vect, y_test)\n",
    "nbt_cm.show()\n",
    "\n",
    "print('The Support Vector with C=1 Confusion Matrix')\n",
    "# SVM\n",
    "svm_cm = ConfusionMatrix(svm_clf, classes=classes)\n",
    "svm_cm.fit(X_train_vec, y_train)\n",
    "svm_cm.score(X_test_vec, y_test)\n",
    "svm_cm.show()"
   ]
  },
  {
   "cell_type": "code",
   "execution_count": 90,
   "metadata": {},
   "outputs": [
    {
     "name": "stdout",
     "output_type": "stream",
     "text": [
      "The Support Vector with C=1 TFIDF Confusion Matrix\n"
     ]
    },
    {
     "name": "stderr",
     "output_type": "stream",
     "text": [
      "/Users/teresacameron/opt/anaconda3/lib/python3.7/site-packages/sklearn/base.py:213: FutureWarning: From version 0.24, get_params will raise an AttributeError if a parameter cannot be retrieved as an instance attribute. Previously it would return None.\n",
      "  FutureWarning)\n"
     ]
    },
    {
     "data": {
      "image/png": "[encoded data removed]",
      "text/plain": [
       "<Figure size 576x396 with 1 Axes>"
      ]
     },
     "metadata": {},
     "output_type": "display_data"
    },
    {
     "name": "stderr",
     "output_type": "stream",
     "text": [
      "/Users/teresacameron/opt/anaconda3/lib/python3.7/site-packages/sklearn/base.py:213: FutureWarning: From version 0.24, get_params will raise an AttributeError if a parameter cannot be retrieved as an instance attribute. Previously it would return None.\n",
      "  FutureWarning)\n"
     ]
    },
    {
     "data": {
      "image/png": "[encoded data removed]",
      "text/plain": [
       "<Figure size 576x396 with 1 Axes>"
      ]
     },
     "metadata": {},
     "output_type": "display_data"
    },
    {
     "name": "stderr",
     "output_type": "stream",
     "text": [
      "/Users/teresacameron/opt/anaconda3/lib/python3.7/site-packages/sklearn/base.py:213: FutureWarning: From version 0.24, get_params will raise an AttributeError if a parameter cannot be retrieved as an instance attribute. Previously it would return None.\n",
      "  FutureWarning)\n"
     ]
    },
    {
     "data": {
      "image/png": "[encoded data removed]",
      "text/plain": [
       "<Figure size 576x396 with 1 Axes>"
      ]
     },
     "metadata": {},
     "output_type": "display_data"
    },
    {
     "name": "stderr",
     "output_type": "stream",
     "text": [
      "/Users/teresacameron/opt/anaconda3/lib/python3.7/site-packages/sklearn/base.py:213: FutureWarning: From version 0.24, get_params will raise an AttributeError if a parameter cannot be retrieved as an instance attribute. Previously it would return None.\n",
      "  FutureWarning)\n"
     ]
    },
    {
     "data": {
      "image/png": "[encoded data removed]",
      "text/plain": [
       "<Figure size 576x396 with 1 Axes>"
      ]
     },
     "metadata": {},
     "output_type": "display_data"
    },
    {
     "data": {
      "text/plain": [
       "<AxesSubplot:title={'center':'SVC Confusion Matrix'}, xlabel='Predicted Class', ylabel='True Class'>"
      ]
     },
     "execution_count": 90,
     "metadata": {},
     "output_type": "execute_result"
    }
   ],
   "source": [
    "# SVM with TFIDF data\n",
    "\n",
    "print('The Support Vector with C=1 TFIDF Confusion Matrix')\n",
    "svmt_cm = ConfusionMatrix(svm_clf, classes=classes)\n",
    "svmt_cm.fit(X_train_vect, y_train)\n",
    "svmt_cm.score(X_test_vect, y_test)\n",
    "svmt_cm.show()\n",
    "\n",
    "# SVM with C = 10 RBF\n",
    "svmR_cm = ConfusionMatrix(svm_clfR10, classes=classes)\n",
    "svmR_cm.fit(X_train_vec, y_train)\n",
    "svmR_cm.score(X_test_vec, y_test)\n",
    "svmR_cm.show()\n",
    "\n",
    "# SVM with RBF\n",
    "svmR_cm = ConfusionMatrix(svm_clfR1, classes=classes)\n",
    "svmR_cm.fit(X_train_vec, y_train)\n",
    "svmR_cm.score(X_test_vec, y_test)\n",
    "svmR_cm.show()\n",
    "\n",
    "# SVM with Poly Kernal\n",
    "svmP_cm = ConfusionMatrix(svm_clfP1, classes=classes)\n",
    "svmP_cm.fit(X_train_vec, y_train)\n",
    "svmP_cm.score(X_test_vec, y_test)\n",
    "svmP_cm.show()"
   ]
  },
  {
   "cell_type": "code",
   "execution_count": 91,
   "metadata": {},
   "outputs": [
    {
     "name": "stderr",
     "output_type": "stream",
     "text": [
      "/Users/teresacameron/opt/anaconda3/lib/python3.7/site-packages/sklearn/base.py:213: FutureWarning: From version 0.24, get_params will raise an AttributeError if a parameter cannot be retrieved as an instance attribute. Previously it would return None.\n",
      "  FutureWarning)\n"
     ]
    },
    {
     "data": {
      "image/png": "[encoded data removed]",
      "text/plain": [
       "<Figure size 576x396 with 2 Axes>"
      ]
     },
     "metadata": {},
     "output_type": "display_data"
    },
    {
     "name": "stdout",
     "output_type": "stream",
     "text": [
      "Bernoulli Naive Bayes Classification Report\n"
     ]
    },
    {
     "name": "stderr",
     "output_type": "stream",
     "text": [
      "/Users/teresacameron/opt/anaconda3/lib/python3.7/site-packages/sklearn/base.py:213: FutureWarning: From version 0.24, get_params will raise an AttributeError if a parameter cannot be retrieved as an instance attribute. Previously it would return None.\n",
      "  FutureWarning)\n"
     ]
    },
    {
     "data": {
      "image/png": "[encoded data removed]",
      "text/plain": [
       "<Figure size 576x396 with 2 Axes>"
      ]
     },
     "metadata": {},
     "output_type": "display_data"
    },
    {
     "name": "stderr",
     "output_type": "stream",
     "text": [
      "/Users/teresacameron/opt/anaconda3/lib/python3.7/site-packages/sklearn/base.py:213: FutureWarning: From version 0.24, get_params will raise an AttributeError if a parameter cannot be retrieved as an instance attribute. Previously it would return None.\n",
      "  FutureWarning)\n"
     ]
    },
    {
     "data": {
      "image/png": "[encoded data removed]",
      "text/plain": [
       "<Figure size 576x396 with 2 Axes>"
      ]
     },
     "metadata": {},
     "output_type": "display_data"
    }
   ],
   "source": [
    "# Yellowbrick Classification Report\n",
    "classes = ('positive', 'neutral', 'negative')\n",
    "# Naive Bayes\n",
    "visualizer = classification_report(nb_clf, X_train_vec, y_train, X_test_vec, y_test, classes=classes, support=True)\n",
    "# Bernoulli\n",
    "print('Bernoulli Naive Bayes Classification Report')\n",
    "visualizer = classification_report(b_clf, X_train_vecB, y_train, X_test_vecB, y_test, classes=classes, support=True)\n",
    "# TFIDF\n",
    "visualizer = classification_report(nb_clf, X_train_vect, y_train, X_test_vect, y_test, classess=classes, support=True)"
   ]
  },
  {
   "cell_type": "code",
   "execution_count": null,
   "metadata": {},
   "outputs": [],
   "source": []
  }
 ],
 "metadata": {
  "kernelspec": {
   "display_name": "Python 3",
   "language": "python",
   "name": "python3"
  },
  "language_info": {
   "codemirror_mode": {
    "name": "ipython",
    "version": 3
   },
   "file_extension": ".py",
   "mimetype": "text/x-python",
   "name": "python",
   "nbconvert_exporter": "python",
   "pygments_lexer": "ipython3",
   "version": "3.7.4"
  }
 },
 "nbformat": 4,
 "nbformat_minor": 4
}
